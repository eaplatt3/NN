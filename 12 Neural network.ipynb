{
 "cells": [
  {
   "cell_type": "code",
   "execution_count": null,
   "metadata": {},
   "outputs": [],
   "source": [
    "%pip install --upgrade pip setuptools wheel"
   ]
  },
  {
   "cell_type": "code",
   "execution_count": null,
   "metadata": {},
   "outputs": [],
   "source": [
    "%pip install tensorflow\n"
   ]
  },
  {
   "cell_type": "code",
   "execution_count": null,
   "metadata": {},
   "outputs": [],
   "source": [
    "%pip install keras"
   ]
  },
  {
   "cell_type": "code",
   "execution_count": null,
   "metadata": {},
   "outputs": [],
   "source": [
    "%pip install numpy==1.26.4"
   ]
  },
  {
   "cell_type": "code",
   "execution_count": null,
   "metadata": {},
   "outputs": [],
   "source": [
    "%pip install pandas"
   ]
  },
  {
   "cell_type": "code",
   "execution_count": null,
   "metadata": {},
   "outputs": [],
   "source": [
    "%pip install matplotlib\n",
    "%pip install scikit-learn"
   ]
  },
  {
   "cell_type": "markdown",
   "metadata": {},
   "source": [
    "Restart Kernel before running the following "
   ]
  },
  {
   "cell_type": "code",
   "execution_count": null,
   "metadata": {},
   "outputs": [],
   "source": [
    "import pandas as pd\n",
    "import numpy as np\n",
    "import matplotlib.pyplot as plt\n",
    "from sklearn.model_selection import train_test_split\n",
    "from sklearn.metrics import accuracy_score\n",
    "from keras.models import Sequential\n",
    "from keras.layers import Dense\n",
    "\n"
   ]
  },
  {
   "cell_type": "code",
   "execution_count": null,
   "metadata": {},
   "outputs": [],
   "source": [
    "data=pd.read_csv('https://raw.githubusercontent.com/plotly/datasets/master/diabetes.csv')\n",
    "data.head()"
   ]
  },
  {
   "cell_type": "code",
   "execution_count": null,
   "metadata": {},
   "outputs": [],
   "source": [
    "data.info()"
   ]
  },
  {
   "cell_type": "markdown",
   "metadata": {},
   "source": [
    "**Objective: Train a Neural Network to predict whether a patient has diabetes.**"
   ]
  },
  {
   "cell_type": "code",
   "execution_count": null,
   "metadata": {},
   "outputs": [],
   "source": [
    "data[\"Outcome\"].value_counts()"
   ]
  },
  {
   "cell_type": "markdown",
   "metadata": {},
   "source": [
    "Identify predictors, target variable, and split data into training and testing"
   ]
  },
  {
   "cell_type": "code",
   "execution_count": null,
   "metadata": {},
   "outputs": [],
   "source": [
    "X=data.iloc[:,0:8]\n",
    "y=data.iloc[:,8]"
   ]
  },
  {
   "cell_type": "code",
   "execution_count": null,
   "metadata": {},
   "outputs": [],
   "source": [
    "# create training and testing data with 80% of data used for training\n",
    "X_train, X_test, y_train, y_test = train_test_split(X, y, test_size=0.2, random_state=0)"
   ]
  },
  {
   "cell_type": "markdown",
   "metadata": {},
   "source": [
    "Training the neural network model\n"
   ]
  },
  {
   "cell_type": "markdown",
   "metadata": {},
   "source": [
    "We create a neural network layer by layer"
   ]
  },
  {
   "cell_type": "code",
   "execution_count": null,
   "metadata": {},
   "outputs": [],
   "source": [
    "NN= Sequential() # initialize the model\n",
    "NN.add(Dense(12, input_dim=8, activation='relu')) \n",
    "# Dense refers to a fully connected layer (feedforward neural network)\n",
    "# add the first layer with 12 neurons, taking in 8 inputs, using the relu activation function\n",
    "NN.add(Dense(8, activation='relu')) # add the second layer with 8 neurons, using the relu activation function\n",
    "NN.add(Dense(1, activation='sigmoid')) # add the output layer with 1 neuron, using the sigmoid activation function\n",
    "#sigmoid is used for binary classification problems"
   ]
  },
  {
   "cell_type": "markdown",
   "metadata": {},
   "source": [
    "**Activation functions**\n",
    "Hidden Layers Activation Functions (ReLU alternatives)  \n",
    "Leaky ReLU:  \n",
    "activation='leaky_relu'   \n",
    "Allows a small gradient when the unit is not active, fixing the “dying ReLU” problem.  \n",
    "  \n",
    "ELU (Exponential Linear Unit):  \n",
    "activation='elu'  \n",
    "Can lead to faster learning and better performance in some cases.  \n",
    "  \n",
    "tanh (Hyperbolic Tangent):  \n",
    "activation='tanh'  \n",
    "Outputs values between -1 and 1. Often better than sigmoid in hidden layers due to zero-centered output.  \n",
    "  \n",
    "  \n",
    "**Output Layer Activation Function Alternatives**  \n",
    "Depending on your task:  \n",
    "  \n",
    "Sigmoid (what you're using):  \n",
    "For binary classification.  \n",
    "  \n",
    "Softmax:  \n",
    "activation='softmax'  \n",
    "For multi-class classification (when you have more than 2 classes).  \n",
    "  \n",
    "Linear (no activation):  \n",
    "activation='linear' or omit it  \n",
    "For regression tasks.  "
   ]
  },
  {
   "cell_type": "code",
   "execution_count": null,
   "metadata": {},
   "outputs": [],
   "source": [
    "#Model 2 \n",
    "NN= Sequential() \n",
    "NN.add(Dense(12, input_dim=8, activation='leaky_relu')) \n",
    "NN.add(Dense(8, activation='leaky_relu')) \n",
    "NN.add(Dense(1, activation='sigmoid')) "
   ]
  },
  {
   "cell_type": "code",
   "execution_count": null,
   "metadata": {},
   "outputs": [],
   "source": [
    "#Model 3 \n",
    "NN= Sequential() \n",
    "NN.add(Dense(12, input_dim=8, activation='elu')) \n",
    "NN.add(Dense(8, activation='tanh')) \n",
    "NN.add(Dense(1, activation='sigmoid')) "
   ]
  },
  {
   "cell_type": "code",
   "execution_count": null,
   "metadata": {},
   "outputs": [],
   "source": [
    "#compile the model\n",
    "NN.compile(loss='binary_crossentropy',  metrics=['accuracy'])\n",
    "# binary_crossentropy is used for binary classification problems\n",
    "#accuracy let Keras track the accuracy of the model while training\n"
   ]
  },
  {
   "cell_type": "code",
   "execution_count": null,
   "metadata": {},
   "outputs": [],
   "source": [
    "#fitting the mdoel\n",
    "NN.fit(X_train, y_train, epochs=200)\n",
    "# epochs is the number of times the training data is passed through the model"
   ]
  },
  {
   "cell_type": "code",
   "execution_count": null,
   "metadata": {},
   "outputs": [],
   "source": [
    "#accuraccy on test data\n",
    "y_pred=NN.predict(X_test)\n",
    "print(y_pred)"
   ]
  },
  {
   "cell_type": "code",
   "execution_count": null,
   "metadata": {},
   "outputs": [],
   "source": [
    "\n",
    "y_pred=(y_pred>0.5)\n",
    "print(y_pred)\n",
    "accuracy_score(y_test, y_pred)\n",
    "\n"
   ]
  }
 ],
 "metadata": {
  "kernelspec": {
   "display_name": "NN",
   "language": "python",
   "name": "python3"
  },
  "language_info": {
   "codemirror_mode": {
    "name": "ipython",
    "version": 3
   },
   "file_extension": ".py",
   "mimetype": "text/x-python",
   "name": "python",
   "nbconvert_exporter": "python",
   "pygments_lexer": "ipython3",
   "version": "3.10.13"
  }
 },
 "nbformat": 4,
 "nbformat_minor": 2
}
